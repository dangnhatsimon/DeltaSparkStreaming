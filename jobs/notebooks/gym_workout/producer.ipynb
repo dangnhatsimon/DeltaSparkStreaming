{
 "cells": [
  {
   "cell_type": "code",
   "execution_count": null,
   "id": "7be1361a-0140-444f-ac62-b0380c55c422",
   "metadata": {},
   "outputs": [],
   "source": [
    "from pyspark.sql.connect.session import SparkSession\n",
    "from pyspark.sql.functions import current_timestamp, input_file_name, broadcast, to_date, col, min, max, avg, mean, count\n",
    "import shutil\n",
    "%run ./config.ipynb"
   ]
  },
  {
   "metadata": {},
   "cell_type": "code",
   "outputs": [],
   "execution_count": null,
   "source": [
    "class Producer:\n",
    "    def __init__(self):\n",
    "        self.conf = Config(self.spark)\n",
    "        self.landing_zone = self.conf.base_dir_data + \"/raw\"\n",
    "        self.test_data_dir = self.conf.base_dir_data + \"/test_data\"\n",
    "               \n",
    "    def user_registration(self, set_num):\n",
    "        source = f\"{self.test_data_dir}/1-registered_users_{set_num}.csv\"\n",
    "        target = f\"{self.landing_zone}/registered_users_bz/1-registered_users_{set_num}.csv\" \n",
    "        # dbutils.fs.cp(source, target)\n",
    "        shutil.copy2(source, target)\n",
    "\n",
    "    def profile_cdc(self, set_num):\n",
    "        source = f\"{self.test_data_dir}/2-user_info_{set_num}.json\"\n",
    "        target = f\"{self.landing_zone}/kafka_multiplex_bz/2-user_info_{set_num}.json\"\n",
    "        # dbutils.fs.cp(source, target)\n",
    "        shutil.copy2(source, target)\n",
    "\n",
    "    def workout(self, set_num):\n",
    "        source = f\"{self.test_data_dir}/4-workout_{set_num}.json\"\n",
    "        target = f\"{self.landing_zone}/kafka_multiplex_bz/4-workout_{set_num}.json\"\n",
    "        # dbutils.fs.cp(source, target)\n",
    "        shutil.copy2(source, target)\n",
    "\n",
    "    def bpm(self, set_num):\n",
    "        source = f\"{self.test_data_dir}/3-bpm_{set_num}.json\"\n",
    "        target = f\"{self.landing_zone}/kafka_multiplex_bz/3-bpm_{set_num}.json\"\n",
    "        # dbutils.fs.cp(source, target)\n",
    "        shutil.copy2(source, target)\n",
    "\n",
    "    def gym_logins(self, set_num):\n",
    "        source = f\"{self.test_data_dir}/5-gym_logins_{set_num}.csv\"\n",
    "        target = f\"{self.landing_zone}/gym_logins_bz/5-gym_logins_{set_num}.csv\" \n",
    "        # dbutils.fs.cp(source, target)\n",
    "        shutil.copy2(source, target)\n",
    "\n",
    "    def produce(self, set_num):\n",
    "        if set_num <=2:\n",
    "            self.user_registration(set_num)\n",
    "            self.profile_cdc(set_num)        \n",
    "            self.workout(set_num)\n",
    "            self.gym_logins(set_num)\n",
    "        if set_num <=10:\n",
    "            self.bpm(set_num)"
   ],
   "id": "1800344c13879ab6"
  }
 ],
 "metadata": {
  "kernelspec": {
   "display_name": "Python 3 (ipykernel)",
   "language": "python",
   "name": "python3"
  },
  "language_info": {
   "codemirror_mode": {
    "name": "ipython",
    "version": 3
   },
   "file_extension": ".py",
   "mimetype": "text/x-python",
   "name": "python",
   "nbconvert_exporter": "python",
   "pygments_lexer": "ipython3",
   "version": "3.12.9"
  }
 },
 "nbformat": 4,
 "nbformat_minor": 5
}
