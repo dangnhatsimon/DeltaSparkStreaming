{
 "cells": [
  {
   "cell_type": "code",
   "execution_count": null,
   "id": "7be1361a-0140-444f-ac62-b0380c55c422",
   "metadata": {},
   "outputs": [],
   "source": [
    "from pyspark.sql.connect.session import SparkSession\n",
    "from pyspark.sql.functions import current_timestamp, input_file_name, broadcast, to_date, col, min, max, avg, mean, count\n",
    "import shutil\n",
    "%run ./setup.ipynb\n",
    "%run ./run.ipynb\n",
    "%run ./history.ipynb\n",
    "%run ./producer.ipynb\n",
    "%run ./bronze.ipynb\n",
    "%run ./silver.ipynb\n",
    "%run ./gold.ipynb"
   ]
  },
  {
   "metadata": {},
   "cell_type": "code",
   "outputs": [],
   "execution_count": null,
   "source": [
    "if __name__ == \"__main__\":\n",
    "    spark = (\n",
    "        SparkSession.builder\n",
    "        .appName(\"GymWorkoutBatch\")\n",
    "        .enableHiveSupport()\n",
    "        .getOrCreate()\n",
    "    )\n",
    "    env = \"dev\"\n",
    "    once = True\n",
    "    processing_time = \"5 seconds\"\n",
    "\n",
    "    sh = SetupHelper(spark, env)\n",
    "    hl = HistoryLoader(spark, env)\n",
    "    pr = Producer(spark)\n",
    "\n",
    "    pr.produce(1)\n",
    "\n",
    "    bronze = Bronze(spark, env)\n",
    "    silver = Silver(spark, env)\n",
    "    gold = Gold(spark, env)\n",
    "\n",
    "    pr.produce(2)"
   ],
   "id": "1800344c13879ab6"
  }
 ],
 "metadata": {
  "kernelspec": {
   "display_name": "Python 3 (ipykernel)",
   "language": "python",
   "name": "python3"
  },
  "language_info": {
   "codemirror_mode": {
    "name": "ipython",
    "version": 3
   },
   "file_extension": ".py",
   "mimetype": "text/x-python",
   "name": "python",
   "nbconvert_exporter": "python",
   "pygments_lexer": "ipython3",
   "version": "3.12.9"
  }
 },
 "nbformat": 4,
 "nbformat_minor": 5
}
