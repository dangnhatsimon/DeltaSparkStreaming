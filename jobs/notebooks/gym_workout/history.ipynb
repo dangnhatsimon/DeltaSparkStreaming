{
 "cells": [
  {
   "cell_type": "code",
   "execution_count": null,
   "id": "7be1361a-0140-444f-ac62-b0380c55c422",
   "metadata": {},
   "outputs": [],
   "source": [
    "import time\n",
    "\n",
    "from pyspark.sql.connect.session import SparkSession\n",
    "%run ./config.ipynb"
   ]
  },
  {
   "metadata": {},
   "cell_type": "code",
   "outputs": [],
   "execution_count": null,
   "source": [
    "class HistoryLoader:\n",
    "    def __init__(self, spark: SparkSession, env: str):\n",
    "        self.spark = spark\n",
    "        self.conf = Config(spark)\n",
    "        self.landing_zone = self.conf.base_dir_data + \"/raw\"\n",
    "        self.test_data_dir = self.conf.base_dir_data + \"/test_data\"\n",
    "        self.catalog = env\n",
    "        self.db_name = self.conf.db_name\n",
    "\n",
    "    def load_date_lookup(self):\n",
    "        self.spark.sql(f\"\"\"\n",
    "            INSERT OVERWRITE TABLE {self.catalog}.{self.db_name}.date_look\n",
    "            SELECT date, week, year, month, dayofweek, dayofmonth,dayofyear, week_part\n",
    "            FROM json.`{self.test_data_dir}/6-date-lookup.json`\n",
    "            )\n",
    "        \"\"\")"
   ],
   "id": "d19a6aaa6fe95eb2"
  },
  {
   "metadata": {},
   "cell_type": "code",
   "outputs": [],
   "execution_count": null,
   "source": [
    "if __name__ == \"__main__\":\n",
    "    spark = (\n",
    "        SparkSession.builder\n",
    "        .appName(\"GymWorkoutHistory\")\n",
    "        .enableHiveSupport()\n",
    "        .getOrCreate()\n",
    "    )\n",
    "    setup = HistoryLoader(spark, \"dev\")\n",
    "    setup.load_date_lookup()"
   ],
   "id": "d3bcf5168b4381b3"
  }
 ],
 "metadata": {
  "kernelspec": {
   "display_name": "Python 3 (ipykernel)",
   "language": "python",
   "name": "python3"
  },
  "language_info": {
   "codemirror_mode": {
    "name": "ipython",
    "version": 3
   },
   "file_extension": ".py",
   "mimetype": "text/x-python",
   "name": "python",
   "nbconvert_exporter": "python",
   "pygments_lexer": "ipython3",
   "version": "3.12.9"
  }
 },
 "nbformat": 4,
 "nbformat_minor": 5
}
