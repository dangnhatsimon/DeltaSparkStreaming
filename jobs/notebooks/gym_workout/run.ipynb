{
 "cells": [
  {
   "cell_type": "code",
   "execution_count": null,
   "id": "7be1361a-0140-444f-ac62-b0380c55c422",
   "metadata": {},
   "outputs": [],
   "source": [
    "import time\n",
    "from pyspark.sql.connect.session import SparkSession\n",
    "%run ./setup.ipynb\n",
    "%run ./history.ipynb\n",
    "%run ./bronze.ipynb\n",
    "%run ./silver.ipynb\n",
    "%run ./gold.ipynb"
   ]
  },
  {
   "metadata": {},
   "cell_type": "code",
   "outputs": [],
   "execution_count": null,
   "source": [
    "if __name__ == \"__main__\":\n",
    "    spark = (\n",
    "        SparkSession.builder\n",
    "        .appName(\"GymWorkoutRun\")\n",
    "        .enableHiveSupport()\n",
    "        .getOrCreate()\n",
    "    )\n",
    "    sc = spark.sparkContext\n",
    "    spark.conf.set(\"spark.sql.shuffle.partitions\", sc.defaultParallelism)\n",
    "    spark.conf.set(\"spark.databricks.delta.optimizeWrite.enabled\", True)\n",
    "    spark.conf.set(\"spark.databricks.delta.autoCompact.enabled\", True)\n",
    "    spark.conf.set(\"spark.sql.streaming.stateStore.providerClass\", \"com.databricks.sql.streaming.state.RocksDBStateStoreProvider\")\n",
    "    env = \"dev\"\n",
    "    once = True\n",
    "    processing_time = \"5 seconds\"\n",
    "\n",
    "    sh = SetupHelper(spark, env)\n",
    "    hl = HistoryLoader(spark, env)\n",
    "\n",
    "    setup_required = spark.sql(f\"SHOW DATABASES IN {sh.catalog}\").filter(f\"databaseName == '{sh.db_name}'\").count() != 1\n",
    "    if setup_required:\n",
    "        sh.setup()\n",
    "        hl.load_history()\n",
    "    else:\n",
    "        spark.sql(f\"USE {sh.catalog}.{sh.db_name}\")\n",
    "\n",
    "    bz = Bronze(spark, env)\n",
    "    sl = Silver(spark, env)\n",
    "    gl = Gold(spark, env)\n",
    "\n",
    "    bz.consume(once, processing_time)\n",
    "    sl.upsert(once, processing_time)\n",
    "    gl.upsert(once, processing_time)"
   ],
   "id": "d19a6aaa6fe95eb2"
  }
 ],
 "metadata": {
  "kernelspec": {
   "display_name": "Python 3 (ipykernel)",
   "language": "python",
   "name": "python3"
  },
  "language_info": {
   "codemirror_mode": {
    "name": "ipython",
    "version": 3
   },
   "file_extension": ".py",
   "mimetype": "text/x-python",
   "name": "python",
   "nbconvert_exporter": "python",
   "pygments_lexer": "ipython3",
   "version": "3.12.9"
  }
 },
 "nbformat": 4,
 "nbformat_minor": 5
}
