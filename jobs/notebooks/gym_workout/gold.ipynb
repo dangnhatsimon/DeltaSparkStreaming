{
 "cells": [
  {
   "cell_type": "code",
   "execution_count": null,
   "id": "7be1361a-0140-444f-ac62-b0380c55c422",
   "metadata": {},
   "outputs": [],
   "source": [
    "import time\n",
    "\n",
    "from pyspark.sql.connect.session import SparkSession\n",
    "from pyspark.sql.functions import current_timestamp, input_file_name, broadcast, to_date, col\n",
    "%run ./config.ipynb"
   ]
  },
  {
   "metadata": {},
   "cell_type": "code",
   "outputs": [],
   "execution_count": null,
   "source": [
    "class Upserter:\n",
    "    def __init__(self, merge_query, temp_view_name):\n",
    "        self.merge_query = merge_query\n",
    "        self.temp_view_name = temp_view_name \n",
    "        \n",
    "    def upsert(self, df_micro_batch, batch_id):\n",
    "        df_micro_batch.createOrReplaceTempView(self.temp_view_name)\n",
    "        df_micro_batch._jdf.sparkSession().sql(self.merge_query)"
   ],
   "id": "1800344c13879ab6"
  },
  {
   "metadata": {},
   "cell_type": "code",
   "outputs": [],
   "execution_count": null,
   "source": [
    "class Gold():\n",
    "    def __init__(self, env):\n",
    "        self.Conf = Config() \n",
    "        self.test_data_dir = self.Conf.base_dir_data + \"/test_data\"\n",
    "        self.checkpoint_base = self.Conf.base_dir_checkpoint + \"/checkpoints\"\n",
    "        self.catalog = env\n",
    "        self.db_name = self.Conf.db_name\n",
    "        self.maxFilesPerTrigger = self.Conf.maxFilesPerTrigger\n",
    "        spark.sql(f\"USE {self.catalog}.{self.db_name}\")\n",
    "        \n",
    "    def upsert_workout_bpm_summary(self, once=True, processing_time=\"15 seconds\", startingVersion=0):\n",
    "        from pyspark.sql import functions as F\n",
    "        \n",
    "        #Idempotent - Once a workout session is complete, It doesn't change. So insert only the new records\n",
    "        query = f\"\"\"\n",
    "        MERGE INTO {self.catalog}.{self.db_name}.workout_bpm_summary a\n",
    "        USING workout_bpm_summary_delta b\n",
    "        ON a.user_id=b.user_id AND a.workout_id = b.workout_id AND a.session_id=b.session_id\n",
    "        WHEN NOT MATCHED THEN INSERT *\n",
    "        \"\"\"\n",
    "        \n",
    "        data_upserter=Upserter(query, \"workout_bpm_summary_delta\")\n",
    "        \n",
    "        df_users = spark.read.table(f\"{self.catalog}.{self.db_name}.user_bins\")\n",
    "        \n",
    "        df_delta = (spark.readStream\n",
    "                         .option(\"startingVersion\", startingVersion)\n",
    "                         #.option(\"ignoreDeletes\", True)\n",
    "                         #.option(\"withEventTimeOrder\", \"true\")\n",
    "                         #.option(\"maxFilesPerTrigger\", self.maxFilesPerTrigger)\n",
    "                         .table(f\"{self.catalog}.{self.db_name}.workout_bpm\")\n",
    "                         .withWatermark(\"end_time\", \"30 seconds\")\n",
    "                         .groupBy(\"user_id\", \"workout_id\", \"session_id\", \"end_time\")\n",
    "                         .agg(F.min(\"heartrate\").alias(\"min_bpm\"), F.mean(\"heartrate\").alias(\"avg_bpm\"), \n",
    "                              F.max(\"heartrate\").alias(\"max_bpm\"), F.count(\"heartrate\").alias(\"num_recordings\"))                         \n",
    "                         .join(df_users, [\"user_id\"])\n",
    "                         .select(\"workout_id\", \"session_id\", \"user_id\", \"age\", \"gender\", \"city\", \"state\", \"min_bpm\", \"avg_bpm\", \"max_bpm\", \"num_recordings\")\n",
    "                     )\n",
    "        \n",
    "        stream_writer = (df_delta.writeStream\n",
    "                                 .foreachBatch(data_upserter.upsert)\n",
    "                                 .outputMode(\"append\")\n",
    "                                 .option(\"checkpointLocation\", f\"{self.checkpoint_base}/workout_bpm_summary\")\n",
    "                                 .queryName(\"workout_bpm_summary_upsert_stream\")\n",
    "                        )\n",
    "        \n",
    "        spark.sparkContext.setLocalProperty(\"spark.scheduler.pool\", \"gold_p1\")\n",
    "        \n",
    "        if once == True:\n",
    "            return stream_writer.trigger(availableNow=True).start()\n",
    "        else:\n",
    "            return stream_writer.trigger(processingTime=processing_time).start()"
   ],
   "id": "d19a6aaa6fe95eb2"
  },
  {
   "metadata": {},
   "cell_type": "code",
   "outputs": [],
   "execution_count": null,
   "source": [
    "if __name__ == \"__main__\":\n",
    "    spark = (\n",
    "        SparkSession.builder\n",
    "        .appName(\"GymWorkoutGold\")\n",
    "        .enableHiveSupport()\n",
    "        .getOrCreate()\n",
    "    )\n",
    "    \n",
    "    bronze = Bronze(spark, \"dev\")\n",
    "    bronze.consume_user_registration(\n",
    "        once=True,\n",
    "        processing_time=\"5 seconds\"\n",
    "    )\n",
    "    bronze.consume_gym_logins(\n",
    "        once=True,\n",
    "        processing_time=\"5 seconds\"\n",
    "    )\n",
    "    bronze.consume_kafka_multiplex(\n",
    "        once=True,\n",
    "        processing_time=\"5 seconds\"\n",
    "    )\n",
    "    for stream in spark.streams.active:\n",
    "        stream.awaitTermination()"
   ],
   "id": "d3bcf5168b4381b3"
  }
 ],
 "metadata": {
  "kernelspec": {
   "display_name": "Python 3 (ipykernel)",
   "language": "python",
   "name": "python3"
  },
  "language_info": {
   "codemirror_mode": {
    "name": "ipython",
    "version": 3
   },
   "file_extension": ".py",
   "mimetype": "text/x-python",
   "name": "python",
   "nbconvert_exporter": "python",
   "pygments_lexer": "ipython3",
   "version": "3.12.9"
  }
 },
 "nbformat": 4,
 "nbformat_minor": 5
}
