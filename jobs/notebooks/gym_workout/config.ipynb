{
 "cells": [
  {
   "cell_type": "code",
   "execution_count": null,
   "id": "3c860f3e-6887-47ca-b53c-6dd5bf6efe21",
   "metadata": {},
   "outputs": [],
   "source": [
    "from pyspark.sql import SparkSession\n",
    "\n",
    "\n",
    "class Config:\n",
    "    def __init__(self, spark: SparkSession):\n",
    "        self.spark = spark\n",
    "        self.base_dir_data = self.spark.sql(\"describe external location `data_zone`\").select(\"url\").collect()[0][0]\n",
    "        self.base_dir_checkpoint = self.spark.sql(\"describe external location `checkpoint`\").select(\"url\").collect()[0][0]\n",
    "        self.db_name = \"gym_workout_db\"\n",
    "        self.maxFilesPerTrigger = 1000"
   ]
  }
 ],
 "metadata": {
  "kernelspec": {
   "display_name": "Python 3 (ipykernel)",
   "language": "python",
   "name": "python3"
  },
  "language_info": {
   "codemirror_mode": {
    "name": "ipython",
    "version": 3
   },
   "file_extension": ".py",
   "mimetype": "text/x-python",
   "name": "python",
   "nbconvert_exporter": "python",
   "pygments_lexer": "ipython3",
   "version": "3.12.9"
  }
 },
 "nbformat": 4,
 "nbformat_minor": 5
}
